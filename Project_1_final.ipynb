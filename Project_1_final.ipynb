{
 "cells": [
  {
   "cell_type": "markdown",
   "metadata": {},
   "source": [
    "Challenge 1: Largest Palindrome\n",
    "\n",
    "A palindromic number reads the same both ways. For example, 1234321 is a palindrome. The largest palindrome made from the product of two two-digit numbers is 9009 = 91 × 99. Find the largest palindrome made from the product of two three-digit numbers. Afterward, write a brief explanation walking through your code's logic in markdown."
   ]
  },
  {
   "cell_type": "code",
   "execution_count": 14,
   "metadata": {},
   "outputs": [
    {
     "data": {
      "text/plain": [
       "906609"
      ]
     },
     "execution_count": 14,
     "metadata": {},
     "output_type": "execute_result"
    }
   ],
   "source": [
    "#question 1\n",
    "\n",
    "#checking if the reversed order of the number is same as original number\n",
    "def rev(num):\n",
    "    return str(num) == str(num)[::-1]\n",
    "\n",
    "#checks for highest palindrom\n",
    "def Palindrom(low, high):\n",
    "    #setting n to be 0. everytime it iterates, n will store new largest number.\n",
    "    n = 0\n",
    "    for x in range(low, high):\n",
    "        for y in range(low, high):\n",
    "            res = x*y\n",
    "            #if the multiplication of two 3-digit numbers pass through function rev\n",
    "            if rev(res):   \n",
    "                #now it checks if the new number is larger than existing n. If larger: store that number, if smaller, skip to next number\n",
    "                if res > n:\n",
    "                    n = res\n",
    "    return (n)\n",
    "\n",
    "Palindrom(100,999)\n",
    "#answer: 906609"
   ]
  },
  {
   "cell_type": "markdown",
   "metadata": {},
   "source": [
    "Challenge 2: Summation of Primes\n",
    "\n",
    "The sum of the primes below 10 is 2 + 3 + 5 + 7 = 17. Find the sum of all the primes below 2,000. Afterward, write a brief explanation walking through your code's logic in markdown."
   ]
  },
  {
   "cell_type": "code",
   "execution_count": 4,
   "metadata": {},
   "outputs": [
    {
     "data": {
      "text/plain": [
       "277050"
      ]
     },
     "execution_count": 4,
     "metadata": {},
     "output_type": "execute_result"
    }
   ],
   "source": [
    "#question 2\n",
    "\n",
    "#checks if num is a prime number\n",
    "def prime(num):\n",
    "    #since 1 is not a prime number, only look for num bigger than 1.\n",
    "    if num > 1:\n",
    "        #check if the num is only divisible by its number.\n",
    "        for i in range(2,num):\n",
    "            if (num % i) == 0:\n",
    "                return False\n",
    "        return True\n",
    "\n",
    "#summing all the prime number found using function 'prime'\n",
    "sum([j for j in range(1,2000) if prime(j)== True])\n",
    "#answer: 277050"
   ]
  },
  {
   "cell_type": "markdown",
   "metadata": {},
   "source": [
    "Challenge 3: Multiples of 3 and 5\n",
    "\n",
    "If we list all of the natural numbers below 10 that are multiples of 3 or 5, we get 3, 5, 6, and 9. The sum of these multiples is 23. Find the sum of all the multiples of 3 and 5 below 1,000. Afterward, write a brief explanation walking through your code's logic in markdown."
   ]
  },
  {
   "cell_type": "code",
   "execution_count": 5,
   "metadata": {},
   "outputs": [
    {
     "data": {
      "text/plain": [
       "33165"
      ]
     },
     "execution_count": 5,
     "metadata": {},
     "output_type": "execute_result"
    }
   ],
   "source": [
    "#question 3\n",
    "\n",
    "#summing all of the numbers that are divisible by 3 and 5\n",
    "sum(i for i in range(1,1000) if i % 3 == 0 and i % 5 ==0)"
   ]
  },
  {
   "cell_type": "markdown",
   "metadata": {},
   "source": [
    "Challenge 4: String Compressor\n",
    "\n",
    "Implement a method to perform basic string compression using the counts of repeated characters. (This is called run-length encoding.) For example, the string \"aabcccccaaa\" would become a2b1c5a3. If the “compressed” string would not become smaller than the original string, your method should return the original string. You can assume the string has only uppercase and lowercase letters (a–z). Specify whether your solution is case sensitive or case insensitive and what you would need to change to make it the other. Afterward, write a brief explanation walking through your code's logic in markdown."
   ]
  },
  {
   "cell_type": "code",
   "execution_count": 26,
   "metadata": {},
   "outputs": [
    {
     "name": "stdout",
     "output_type": "stream",
     "text": [
      "aaCDSccbBb a3b2c2 a2A2b4c2\n"
     ]
    }
   ],
   "source": [
    "#question 4\n",
    "#currently case sensitive\n",
    "#to make is case insensitive, change n to be .lower() or .upper() [ex. n.lower() or n.upper()]\n",
    "\n",
    "\n",
    "def string_comp(n):\n",
    "    #num is number of repetition.\n",
    "    num = 1\n",
    "    #res is empty string where it will store letter and number after every iteration.\n",
    "    res = \"\"\n",
    "    #Start by adding first letter into res.\n",
    "    res += n[0]\n",
    "    #if prev and after letter are same, add 1 to the num. If not, just add the letter and 1 in 'res'\n",
    "    for i in range(len(n)-1):\n",
    "        if  n[i] == n[i+1] :\n",
    "            num += 1\n",
    "        else:\n",
    "            res += str(num)\n",
    "            res += n[i+1]\n",
    "            num = 1\n",
    "    #printing the last letter count\n",
    "    if num >1 :\n",
    "        res += str(num)\n",
    "    #if the compressed string is not smaller than the original string, it will return original string.\n",
    "    if len(res) > len(n):\n",
    "        return n\n",
    "    else:\n",
    "        return res\n",
    "\n",
    "#checking all three conditions.\n",
    "a = string_comp('aaCDSccbBb') #compressed string is not smaller than the original string, so it returned original string\n",
    "b = string_comp('aaabbcc') #compressed string is smaller, so it returned 'letter' and 'number of rep'\n",
    "c = string_comp('aaAAbbbbcc') #this function is case sensitive, so a and A was counted separately.\n",
    "\n",
    "print(a,b,c)"
   ]
  },
  {
   "cell_type": "markdown",
   "metadata": {},
   "source": [
    "BONUS Challenge: FizzBuzz\n",
    "\n",
    "Write a program that prints all of the numbers from 1 to 100. For multiples of 3, instead of the number, print \"Fizz;\" for multiples of 5, print \"Buzz.\" For numbers that are multiples of both 3 and 5, print \"FizzBuzz.\" Afterward, write a brief explanation walking through your code's logic in markdown."
   ]
  },
  {
   "cell_type": "code",
   "execution_count": 13,
   "metadata": {},
   "outputs": [
    {
     "name": "stdout",
     "output_type": "stream",
     "text": [
      "1\n",
      "2\n",
      "Fizz\n",
      "4\n",
      "Buzz\n",
      "Fizz\n",
      "7\n",
      "8\n",
      "Fizz\n",
      "Buzz\n",
      "11\n",
      "Fizz\n",
      "13\n",
      "14\n",
      "FizzBuzz\n",
      "16\n",
      "17\n",
      "Fizz\n",
      "19\n",
      "Buzz\n",
      "Fizz\n",
      "22\n",
      "23\n",
      "Fizz\n",
      "Buzz\n",
      "26\n",
      "Fizz\n",
      "28\n",
      "29\n",
      "FizzBuzz\n",
      "31\n",
      "32\n",
      "Fizz\n",
      "34\n",
      "Buzz\n",
      "Fizz\n",
      "37\n",
      "38\n",
      "Fizz\n",
      "Buzz\n",
      "41\n",
      "Fizz\n",
      "43\n",
      "44\n",
      "FizzBuzz\n",
      "46\n",
      "47\n",
      "Fizz\n",
      "49\n",
      "Buzz\n",
      "Fizz\n",
      "52\n",
      "53\n",
      "Fizz\n",
      "Buzz\n",
      "56\n",
      "Fizz\n",
      "58\n",
      "59\n",
      "FizzBuzz\n",
      "61\n",
      "62\n",
      "Fizz\n",
      "64\n",
      "Buzz\n",
      "Fizz\n",
      "67\n",
      "68\n",
      "Fizz\n",
      "Buzz\n",
      "71\n",
      "Fizz\n",
      "73\n",
      "74\n",
      "FizzBuzz\n",
      "76\n",
      "77\n",
      "Fizz\n",
      "79\n",
      "Buzz\n",
      "Fizz\n",
      "82\n",
      "83\n",
      "Fizz\n",
      "Buzz\n",
      "86\n",
      "Fizz\n",
      "88\n",
      "89\n",
      "FizzBuzz\n",
      "91\n",
      "92\n",
      "Fizz\n",
      "94\n",
      "Buzz\n",
      "Fizz\n",
      "97\n",
      "98\n",
      "Fizz\n",
      "Buzz\n"
     ]
    }
   ],
   "source": [
    "#question 5\n",
    "\n",
    "\n",
    "def fizzbuzz(low,high):\n",
    "    for i in range (low,high+1):\n",
    "        #print 'Fizz' only if number is divisible by 3\n",
    "        if i % 3 == 0 and i % 5 != 0:\n",
    "            print (\"Fizz\")\n",
    "        #print 'Buzz' only if number is divisible by 5\n",
    "        elif i % 5 == 0 and i % 3 !=0:\n",
    "            print(\"Buzz\")\n",
    "        #print 'FizzBuzz' if number is divisible by 3 AND 5\n",
    "        elif i % 5 == 0 and i % 3 == 0:\n",
    "            print(\"FizzBuzz\")\n",
    "        else:\n",
    "        #else, print the number\n",
    "            print(i)\n",
    "fizzbuzz(1,100)"
   ]
  },
  {
   "cell_type": "code",
   "execution_count": null,
   "metadata": {},
   "outputs": [],
   "source": []
  }
 ],
 "metadata": {
  "kernelspec": {
   "display_name": "Python 3",
   "language": "python",
   "name": "python3"
  },
  "language_info": {
   "codemirror_mode": {
    "name": "ipython",
    "version": 3
   },
   "file_extension": ".py",
   "mimetype": "text/x-python",
   "name": "python",
   "nbconvert_exporter": "python",
   "pygments_lexer": "ipython3",
   "version": "3.6.5"
  }
 },
 "nbformat": 4,
 "nbformat_minor": 2
}
